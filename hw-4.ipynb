{
 "cells": [
  {
   "cell_type": "code",
   "execution_count": null,
   "metadata": {},
   "outputs": [],
   "source": [
    "%matplotlib inline\n",
    "import numpy as np\n",
    "import matplotlib.pyplot as plt"
   ]
  },
  {
   "cell_type": "code",
   "execution_count": null,
   "metadata": {},
   "outputs": [],
   "source": [
    "def func(x):\n",
    "    a = -2\n",
    "    b = 10\n",
    "    return np.e**(a*x) * np.cos(b*x)"
   ]
  },
  {
   "cell_type": "code",
   "execution_count": null,
   "metadata": {},
   "outputs": [],
   "source": [
    "def func_integral(x):\n",
    "    a = (-2.)\n",
    "    b = 5.\n",
    "    c = 10.\n",
    "    d = (-1/52.)\n",
    "    return np.e**(a*x) * ((np.cos(c*x)- b*np.sin(c*x))) * d"
   ]
  },
  {
   "cell_type": "markdown",
   "metadata": {},
   "source": [
    "Trapezoid Method"
   ]
  },
  {
   "cell_type": "code",
   "execution_count": null,
   "metadata": {},
   "outputs": [],
   "source": [
    "def trap_core(f,x,h):\n",
    "    return 0.5 * h * (f(x+h) + f(x))"
   ]
  },
  {
   "cell_type": "code",
   "execution_count": null,
   "metadata": {},
   "outputs": [],
   "source": [
    "def trap_method (f,a,b,N):\n",
    "    x = np.linspace(a,b,N)\n",
    "    h = x[1] - x[0]\n",
    "    Fint = 0.0\n",
    "    for i in range(0,len(x)-1,1):\n",
    "        Fint += trap_core(f,x[i],h)\n",
    "    print (N, \"iterations\")\n",
    "    return Fint"
   ]
  },
  {
   "cell_type": "markdown",
   "metadata": {},
   "source": [
    "Simpson's Method"
   ]
  },
  {
   "cell_type": "code",
   "execution_count": null,
   "metadata": {},
   "outputs": [],
   "source": [
    "def simp_core(f,x,h):\n",
    "    return h * (f(x) + 4*f(x+h) + f(x+2*h))/3."
   ]
  },
  {
   "cell_type": "code",
   "execution_count": null,
   "metadata": {},
   "outputs": [],
   "source": [
    "def simp_method (f,a,b,N):\n",
    "    x = np.linspace(a,b,N)\n",
    "    h = x[1]-x[0]\n",
    "    Fint = 0.0\n",
    "    for i in range(0, len(x)-2,2):\n",
    "        Fint += simp_core(f,x[i],h)\n",
    "    if ((N%2)==0):\n",
    "        Fint += simp_core(f,x[-2],0.5*h)\n",
    "    print (N, \"iterations\")\n",
    "    return Fint"
   ]
  },
  {
   "cell_type": "markdown",
   "metadata": {},
   "source": [
    "Romberg's Method"
   ]
  },
  {
   "cell_type": "code",
   "execution_count": null,
   "metadata": {},
   "outputs": [],
   "source": [
    "def rom_core(f,a,b,i):\n",
    "    h = b-a\n",
    "    dh = h/2.**i\n",
    "    K = h/2.**(i+1)\n",
    "    M = 0.0\n",
    "    for j in range(2**i):\n",
    "        M += f(a + 0.5*dh + j*dh)\n",
    "    return K*M"
   ]
  },
  {
   "cell_type": "code",
   "execution_count": null,
   "metadata": {},
   "outputs": [],
   "source": [
    "def rom_method(f,a,b,tol):\n",
    "    i = 0\n",
    "    imax = 1000\n",
    "    delta = 100.0*np.fabs(tol)\n",
    "    I = np.zeros(imax,dtype=float)\n",
    "    I[0] = 0.5*(b-a)*(f(a) + f(b))\n",
    "    i += 1\n",
    "    while (delta>tol):\n",
    "        I[i] = 0.5*I[i-1] + rom_core(f,a,b,i)\n",
    "        delta = np.fabs ((I[i]-I[i-1])/I[i])\n",
    "        print (i, I[i],I[i-1],delta)\n",
    "        if (delta>tol):\n",
    "            i += 1\n",
    "            if(i>imax):\n",
    "                print(\"Max iterations reached.\")\n",
    "                raise StopIteration('Stopping iterations after ', i)\n",
    "    print (i, \"iterations\")\n",
    "    return I[i]"
   ]
  },
  {
   "cell_type": "code",
   "execution_count": null,
   "metadata": {},
   "outputs": [],
   "source": [
    "ans = func_integral(np.pi) - func_integral(0)\n",
    "print(\"Integral = \" + str(ans))\n",
    "print('Trapezoid method')\n",
    "print(trap_method(func,0,np.pi,10))\n",
    "print(\"Simpson's method\")\n",
    "print(simp_method(func,0,np.pi,10))\n",
    "print(\"Romberg's method\")\n",
    "tolerance = 1e-6\n",
    "RI = rom_method(func,0,np.pi,tolerance)\n",
    "print(RI, (RI - answer)/answer, tolerance)"
   ]
  },
  {
   "cell_type": "code",
   "execution_count": null,
   "metadata": {},
   "outputs": [],
   "source": []
  }
 ],
 "metadata": {
  "kernelspec": {
   "display_name": "Python 3",
   "language": "python",
   "name": "python3"
  },
  "language_info": {
   "codemirror_mode": {
    "name": "ipython",
    "version": 3
   },
   "file_extension": ".py",
   "mimetype": "text/x-python",
   "name": "python",
   "nbconvert_exporter": "python",
   "pygments_lexer": "ipython3",
   "version": "3.7.0"
  }
 },
 "nbformat": 4,
 "nbformat_minor": 2
}
